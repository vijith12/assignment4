{
 "cells": [
  {
   "cell_type": "code",
   "execution_count": 257,
   "id": "d070f8fd",
   "metadata": {},
   "outputs": [],
   "source": [
    "import numpy as np\n",
    "import pandas as pd\n",
    "import matplotlib.pyplot as plt\n",
    "import seaborn as sns\n",
    "%matplotlib inline\n",
    "import io\n",
    "from sklearn.impute import SimpleImputer\n",
    "from sklearn.preprocessing import LabelEncoder\n",
    "excel=\"nba_Player data.csv\"\n",
    "dataframe=pd.read_csv(excel)\n",
    "## Categorical values preprocessing -> position attribute\n",
    "a=dataframe.iloc[:,1]\n",
    "le=LabelEncoder()\n",
    "\n"
   ]
  },
  {
   "cell_type": "code",
   "execution_count": 258,
   "id": "0e7d57a5",
   "metadata": {},
   "outputs": [],
   "source": [
    "x=dataframe.iloc[:,:-1].values\n",
    "y=dataframe.iloc[:,-1].values\n",
    "#preprocessing null values\n",
    "imputer=SimpleImputer(missing_values=np.nan,strategy=\"mean\")\n",
    "imputer.fit(x[:,4:8])\n",
    "x[:,4:8]=imputer.transform(x[:,4:8])"
   ]
  },
  {
   "cell_type": "code",
   "execution_count": 259,
   "id": "4326b2e6",
   "metadata": {},
   "outputs": [],
   "source": [
    "dataframe=pd.DataFrame(x,columns=[\"Player\",\"Position\",\"Age\",\"Games\",\"Minutes Played\",\"True Shooting(%)\",\"Threepoint Attempt rate\",\"Free throw attempt rate\"])"
   ]
  },
  {
   "cell_type": "code",
   "execution_count": 260,
   "id": "29c0121f",
   "metadata": {},
   "outputs": [],
   "source": [
    "b=le.fit_transform(a)\n",
    "df1=pd.DataFrame({\"Position\":b})\n",
    "dataframe.update(df1)"
   ]
  },
  {
   "cell_type": "code",
   "execution_count": 261,
   "id": "33494475",
   "metadata": {},
   "outputs": [
    {
     "data": {
      "text/plain": [
       "Player                     0\n",
       "Position                   0\n",
       "Age                        0\n",
       "Games                      0\n",
       "Minutes Played             0\n",
       "True Shooting(%)           0\n",
       "Threepoint Attempt rate    0\n",
       "Free throw attempt rate    0\n",
       "dtype: int64"
      ]
     },
     "execution_count": 261,
     "metadata": {},
     "output_type": "execute_result"
    }
   ],
   "source": [
    "dataframe.isnull().sum()\n",
    "#dataframe has no null values and categorical values"
   ]
  },
  {
   "cell_type": "code",
   "execution_count": 262,
   "id": "0289679e",
   "metadata": {},
   "outputs": [],
   "source": [
    "dataframe=dataframe.drop([\"Player\"],axis=1)\n",
    "#player name has nothing to do with efficiency"
   ]
  },
  {
   "cell_type": "code",
   "execution_count": 263,
   "id": "60a0d97e",
   "metadata": {
    "scrolled": false
   },
   "outputs": [
    {
     "data": {
      "text/html": [
       "<div>\n",
       "<style scoped>\n",
       "    .dataframe tbody tr th:only-of-type {\n",
       "        vertical-align: middle;\n",
       "    }\n",
       "\n",
       "    .dataframe tbody tr th {\n",
       "        vertical-align: top;\n",
       "    }\n",
       "\n",
       "    .dataframe thead th {\n",
       "        text-align: right;\n",
       "    }\n",
       "</style>\n",
       "<table border=\"1\" class=\"dataframe\">\n",
       "  <thead>\n",
       "    <tr style=\"text-align: right;\">\n",
       "      <th></th>\n",
       "      <th>Position</th>\n",
       "      <th>Age</th>\n",
       "      <th>Games</th>\n",
       "      <th>Minutes Played</th>\n",
       "      <th>True Shooting(%)</th>\n",
       "      <th>Threepoint Attempt rate</th>\n",
       "      <th>Free throw attempt rate</th>\n",
       "    </tr>\n",
       "  </thead>\n",
       "  <tbody>\n",
       "    <tr>\n",
       "      <th>count</th>\n",
       "      <td>497</td>\n",
       "      <td>497</td>\n",
       "      <td>497</td>\n",
       "      <td>497.0</td>\n",
       "      <td>497.0</td>\n",
       "      <td>497.0</td>\n",
       "      <td>497.0</td>\n",
       "    </tr>\n",
       "    <tr>\n",
       "      <th>unique</th>\n",
       "      <td>9</td>\n",
       "      <td>19</td>\n",
       "      <td>30</td>\n",
       "      <td>384.0</td>\n",
       "      <td>252.0</td>\n",
       "      <td>327.0</td>\n",
       "      <td>277.0</td>\n",
       "    </tr>\n",
       "    <tr>\n",
       "      <th>top</th>\n",
       "      <td>8</td>\n",
       "      <td>22</td>\n",
       "      <td>27</td>\n",
       "      <td>27.0</td>\n",
       "      <td>0.0</td>\n",
       "      <td>0.0</td>\n",
       "      <td>0.0</td>\n",
       "    </tr>\n",
       "    <tr>\n",
       "      <th>freq</th>\n",
       "      <td>122</td>\n",
       "      <td>53</td>\n",
       "      <td>39</td>\n",
       "      <td>4.0</td>\n",
       "      <td>9.0</td>\n",
       "      <td>30.0</td>\n",
       "      <td>32.0</td>\n",
       "    </tr>\n",
       "  </tbody>\n",
       "</table>\n",
       "</div>"
      ],
      "text/plain": [
       "        Position  Age  Games  Minutes Played  True Shooting(%)  \\\n",
       "count        497  497    497           497.0             497.0   \n",
       "unique         9   19     30           384.0             252.0   \n",
       "top            8   22     27            27.0               0.0   \n",
       "freq         122   53     39             4.0               9.0   \n",
       "\n",
       "        Threepoint Attempt rate  Free throw attempt rate  \n",
       "count                     497.0                    497.0  \n",
       "unique                    327.0                    277.0  \n",
       "top                         0.0                      0.0  \n",
       "freq                       30.0                     32.0  "
      ]
     },
     "execution_count": 263,
     "metadata": {},
     "output_type": "execute_result"
    }
   ],
   "source": [
    "\n",
    "dataframe.describe()\n"
   ]
  },
  {
   "cell_type": "code",
   "execution_count": 292,
   "id": "7c6aced2",
   "metadata": {},
   "outputs": [],
   "source": [
    "from sklearn.model_selection import train_test_split\n",
    "#independent variable\n",
    "x=dataframe.iloc[:,:-1].values\n",
    "#dependent variable\n",
    "y=dataframe.iloc[:,-1].values\n",
    "\n",
    "    \n",
    "\n"
   ]
  },
  {
   "cell_type": "code",
   "execution_count": 293,
   "id": "875822da",
   "metadata": {},
   "outputs": [],
   "source": [
    "x_train,x_test,y_train,y_test=train_test_split(x,y,test_size=0.2,random_state=0)"
   ]
  },
  {
   "cell_type": "code",
   "execution_count": 294,
   "id": "53a2bfc4",
   "metadata": {},
   "outputs": [],
   "source": [
    "from sklearn.linear_model import LinearRegression"
   ]
  },
  {
   "cell_type": "code",
   "execution_count": 295,
   "id": "1f664ec5",
   "metadata": {},
   "outputs": [],
   "source": [
    "lm=LinearRegression()"
   ]
  },
  {
   "cell_type": "code",
   "execution_count": 296,
   "id": "2fdc6dbd",
   "metadata": {},
   "outputs": [
    {
     "data": {
      "text/plain": [
       "LinearRegression()"
      ]
     },
     "execution_count": 296,
     "metadata": {},
     "output_type": "execute_result"
    }
   ],
   "source": [
    "lm.fit(x_train,y_train)"
   ]
  },
  {
   "cell_type": "code",
   "execution_count": 297,
   "id": "fc0de097",
   "metadata": {},
   "outputs": [
    {
     "data": {
      "text/plain": [
       "array([ 0.22800823,  0.10709378,  0.33676521,  0.17756667,  0.25539951,\n",
       "        0.38280518,  0.14245398,  0.24088966,  0.31843853,  0.31728223,\n",
       "        0.53177711,  0.36608875,  0.30876367,  0.18639958,  0.18173808,\n",
       "        0.24185317,  0.26153234,  0.21718619,  0.14042235,  0.18221774,\n",
       "        0.28199933,  0.22720047,  0.21079391,  0.19295226,  0.4920931 ,\n",
       "        0.30201828,  0.18150915,  0.27106451,  0.12042075,  0.22411614,\n",
       "        0.19862325,  0.14063157,  0.3906721 ,  0.29304293,  0.42248654,\n",
       "        0.13281865,  0.35237586,  0.06294966,  0.56992186,  0.44668949,\n",
       "        0.29251091,  0.36142837,  0.35213937,  0.2597398 ,  0.13170844,\n",
       "        0.19862425, -0.00113853,  0.17462433,  0.13471457,  0.17576862,\n",
       "        0.16507551,  0.29584203,  0.1852515 ,  0.06946408,  0.30075658,\n",
       "        0.26438486,  0.10956233,  0.18174984,  0.17990929,  0.29340258,\n",
       "        0.20018132,  0.40446427,  0.20211606,  0.347804  ,  0.17973421,\n",
       "        0.27861796,  0.49286959,  0.19134998,  0.29216671,  0.49615772,\n",
       "        0.14338997,  0.23657779,  0.1552672 ,  0.16941519,  0.35758531,\n",
       "        0.57127992,  0.46588345,  0.09566195,  0.30765888,  0.24661675,\n",
       "        0.30273914,  0.15604034,  0.40012079,  0.00563579,  0.07396314,\n",
       "        0.25420821,  0.3067513 ,  0.39839958,  0.13146176,  0.32828756,\n",
       "        0.18358653,  0.47902803,  0.27767662,  0.06436001,  0.23575637,\n",
       "        0.05644511,  0.22916308,  0.2912978 ,  0.62035424,  0.16684872])"
      ]
     },
     "execution_count": 297,
     "metadata": {},
     "output_type": "execute_result"
    }
   ],
   "source": [
    "y_pred=lm.predict(x_test)\n",
    "y_pred\n"
   ]
  },
  {
   "cell_type": "code",
   "execution_count": 298,
   "id": "57bbe594",
   "metadata": {},
   "outputs": [
    {
     "data": {
      "text/plain": [
       "[<matplotlib.lines.Line2D at 0x22c23f03310>]"
      ]
     },
     "execution_count": 298,
     "metadata": {},
     "output_type": "execute_result"
    },
    {
     "data": {
      "image/png": "[encoded data removed]",
      "text/plain": [
       "<Figure size 432x288 with 1 Axes>"
      ]
     },
     "metadata": {
      "needs_background": "light"
     },
     "output_type": "display_data"
    }
   ],
   "source": [
    "plt.plot(y_test,color=\"red\")\n",
    "plt.plot(y_pred,color=\"blue\")\n"
   ]
  },
  {
   "cell_type": "code",
   "execution_count": 299,
   "id": "b5569c96",
   "metadata": {},
   "outputs": [],
   "source": [
    "from sklearn.metrics import mean_squared_error,mean_absolute_error,r2_score"
   ]
  },
  {
   "cell_type": "code",
   "execution_count": 300,
   "id": "585a689d",
   "metadata": {},
   "outputs": [
    {
     "data": {
      "text/plain": [
       "0.03280694389912259"
      ]
     },
     "execution_count": 300,
     "metadata": {},
     "output_type": "execute_result"
    }
   ],
   "source": [
    "mean_squared_error(y_test,y_pred)"
   ]
  },
  {
   "cell_type": "code",
   "execution_count": 301,
   "id": "b2a1c8bf",
   "metadata": {},
   "outputs": [
    {
     "data": {
      "text/plain": [
       "0.11557825136764499"
      ]
     },
     "execution_count": 301,
     "metadata": {},
     "output_type": "execute_result"
    }
   ],
   "source": [
    "mean_absolute_error(y_test,y_pred)"
   ]
  },
  {
   "cell_type": "code",
   "execution_count": 302,
   "id": "74ad6b1e",
   "metadata": {},
   "outputs": [
    {
     "data": {
      "text/plain": [
       "0.13420164066516138"
      ]
     },
     "execution_count": 302,
     "metadata": {},
     "output_type": "execute_result"
    }
   ],
   "source": [
    "r2_score(y_test,y_pred)"
   ]
  },
  {
   "cell_type": "code",
   "execution_count": 303,
   "id": "c48873f3",
   "metadata": {},
   "outputs": [
    {
     "data": {
      "text/plain": [
       "0.2252476036176032"
      ]
     },
     "execution_count": 303,
     "metadata": {},
     "output_type": "execute_result"
    }
   ],
   "source": [
    "lm.score(x,y)"
   ]
  },
  {
   "cell_type": "code",
   "execution_count": null,
   "id": "07cb3502",
   "metadata": {},
   "outputs": [],
   "source": []
  },
  {
   "cell_type": "code",
   "execution_count": null,
   "id": "92686d3d",
   "metadata": {},
   "outputs": [],
   "source": []
  }
 ],
 "metadata": {
  "kernelspec": {
   "display_name": "Python 3 (ipykernel)",
   "language": "python",
   "name": "python3"
  },
  "language_info": {
   "codemirror_mode": {
    "name": "ipython",
    "version": 3
   },
   "file_extension": ".py",
   "mimetype": "text/x-python",
   "name": "python",
   "nbconvert_exporter": "python",
   "pygments_lexer": "ipython3",
   "version": "3.9.7"
  }
 },
 "nbformat": 4,
 "nbformat_minor": 5
}
